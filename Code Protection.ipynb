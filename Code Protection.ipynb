{
  "cells": [
    {
      "cell_type": "code",
      "execution_count": null,
      "metadata": {
        "id": "VLAebdvPvY8d"
      },
      "outputs": [],
      "source": [
        "import tensorflow as tf\n",
        "import tensorflow_hub as hub\n",
        "import numpy as np\n",
        "import matplotlib.pyplot as plt\n",
        "import librosa\n",
        "import csv\n",
        "\n",
        "yamnet_model_handle = 'https://tfhub.dev/google/yamnet/1'\n",
        "yamnet_model = hub.load(yamnet_model_handle)\n",
        "\n",
        "from google.colab import files\n",
        "uploaded = files.upload()\n",
        "audio_file = list(uploaded.keys())[0]\n",
        "\n",
        "waveform, _ = librosa.load(audio_file, sr=16000, mono=True)\n",
        "waveform = waveform.astype(np.float32)\n",
        "\n",
        "scores, _, spectrogram = yamnet_model(waveform)\n",
        "\n",
        "class_map_path = yamnet_model.class_map_path().numpy().decode('utf-8')\n",
        "class_names = []\n",
        "with tf.io.gfile.GFile(class_map_path) as class_map_file:\n",
        "    reader = csv.reader(class_map_file)\n",
        "    next(reader)\n",
        "    for row in reader:\n",
        "        class_names.append(row[2])\n",
        "\n",
        "top_n = 5\n",
        "top_class_indices = np.argsort(scores[0])[::-1][:top_n]\n",
        "for i in top_class_indices:\n",
        "    print(f'{class_names[i]}: {scores[0][i]}')\n",
        "\n",
        "    if class_names[i].lower() == 'gunshot' and scores[0][i] > 0.5:\n",
        "        print(f\"Gunshot detected with probability: {scores[0][i]}\")\n",
        "\n",
        "plt.figure(figsize=(10, 4))\n",
        "plt.imshow(spectrogram.numpy().T, aspect='auto', interpolation='nearest', origin='lower')\n",
        "plt.title('Spectrogram')\n",
        "plt.xlabel('Frames')\n",
        "plt.ylabel('Frequency Bands')\n",
        "plt.show()\n"
      ]
    }
  ],
  "metadata": {
    "colab": {
      "provenance": []
    },
    "kernelspec": {
      "display_name": "Python 3",
      "name": "python3"
    },
    "language_info": {
      "name": "python"
    }
  },
  "nbformat": 4,
  "nbformat_minor": 0
}